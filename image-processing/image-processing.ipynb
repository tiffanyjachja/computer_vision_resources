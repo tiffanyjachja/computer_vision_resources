{
 "cells": [
  {
   "cell_type": "markdown",
   "metadata": {},
   "source": [
    "# Introduction to Computational Photography and Computer Vision\n",
    "\n",
    "This notebook contains some foundational concepts and techniques used in computational photography and computer vision. If you would like to run this notebook and its examples, execute the command `jupyter notebook` from your terminal. The terminal will allow you to select a notebook file (a file ending in \".ipynb\"). Once the notebook launches, you can edit code in any cell of the notebook and and execute any code cell using `shift+enter`. "
   ]
  },
  {
   "cell_type": "code",
   "execution_count": null,
   "metadata": {},
   "outputs": [],
   "source": [
    "import cv2\n",
    "import numpy as np\n",
    "import scipy as sp\n",
    "\n",
    "import matplotlib as mpl\n",
    "import matplotlib.pyplot as plt"
   ]
  },
  {
   "cell_type": "markdown",
   "metadata": {},
   "source": [
    "## Part 1: Image I/O"
   ]
  },
  {
   "cell_type": "markdown",
   "metadata": {},
   "source": [
    "### Reading and Displaying a Grayscale Image\n",
    "Reading a sample image is simple with OpenCV."
   ]
  },
  {
   "cell_type": "code",
   "execution_count": null,
   "metadata": {},
   "outputs": [],
   "source": [
    "img = cv2.imread(\"example.jpg\")\n",
    "gray_img = cv2.imread(\"example.jpg\", cv2.IMREAD_GRAYSCALE)\n",
    "\n",
    "plt.imshow(gray_img, cmap=\"gray\"); plt.axis(\"off\"); plt.title(\"Grayscale Rico\");"
   ]
  },
  {
   "cell_type": "markdown",
   "metadata": {},
   "source": [
    "### Reading and Displaying a Color Image"
   ]
  },
  {
   "cell_type": "code",
   "execution_count": null,
   "metadata": {},
   "outputs": [],
   "source": [
    "color_img = cv2.imread(\"example.jpg\", cv2.IMREAD_COLOR)\n",
    "plt.imshow(color_img); plt.axis(\"off\"); plt.title(\"Color Rico\");"
   ]
  },
  {
   "cell_type": "markdown",
   "metadata": {},
   "source": [
    "Does this seem off? The `imshow()` function expects images to be in the RGB color space, but OpenCV uses a BGR color space. Our image is in BGR! Let's grab each layer of the image to create an RGB image. "
   ]
  },
  {
   "cell_type": "code",
   "execution_count": null,
   "metadata": {},
   "outputs": [],
   "source": [
    "blue, green, red = np.moveaxis(color_img, 2, 0)\n",
    "rgb_img = np.dstack([red, green, blue]) \n",
    "\n",
    "# alternatively you can use the OpenCV library\n",
    "rgb_img = cv2.cvtColor(color_img, cv2.COLOR_BGR2RGB)\n",
    "\n",
    "plt.imshow(rgb_img); plt.axis(\"off\"); plt.title(\"(Corrected) Color Rico\");"
   ]
  },
  {
   "cell_type": "markdown",
   "metadata": {},
   "source": [
    "Note you can use the OpenCV library to process images in any color space. GRAYSCALE, HSV, RGB, etc."
   ]
  },
  {
   "cell_type": "markdown",
   "metadata": {},
   "source": [
    "### Saving Images to Disk\n",
    "Save each of the three color channels as grayscale images."
   ]
  },
  {
   "cell_type": "code",
   "execution_count": null,
   "metadata": {},
   "outputs": [],
   "source": [
    "cv2.imwrite(\"blue.png\", blue)\n",
    "cv2.imwrite(\"green.png\", green)\n",
    "cv2.imwrite(\"red.png\", red)"
   ]
  },
  {
   "cell_type": "markdown",
   "metadata": {},
   "source": [
    "### Other Useful Functions\n",
    "Another useful set of methods when working OpenCV:"
   ]
  },
  {
   "cell_type": "code",
   "execution_count": null,
   "metadata": {},
   "outputs": [],
   "source": [
    "cv2.imshow(\"Image Description\", color_img)\n",
    "cv2.waitkey(0)\n",
    "cv2.destroyAllWindows()"
   ]
  },
  {
   "cell_type": "markdown",
   "metadata": {},
   "source": [
    "## Resources\n",
    "- [Robust Color Picker](https://imagecolorpicker.com/)\n",
    "- [K-Means Clustering in OpenCV](https://vovkos.github.io/doxyrest-showcase/opencv/sphinx_rtd_theme/page_tutorial_py_kmeans_opencv.html#doxid-d1-d5c-tutorial-py-kmeans-opencv)"
   ]
  }
 ],
 "metadata": {
  "kernelspec": {
   "display_name": "Python 3",
   "language": "python",
   "name": "python3"
  },
  "language_info": {
   "codemirror_mode": {
    "name": "ipython",
    "version": 3
   },
   "file_extension": ".py",
   "mimetype": "text/x-python",
   "name": "python",
   "nbconvert_exporter": "python",
   "pygments_lexer": "ipython3",
   "version": "3.7.4"
  }
 },
 "nbformat": 4,
 "nbformat_minor": 4
}
